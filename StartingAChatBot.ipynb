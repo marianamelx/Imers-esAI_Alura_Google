{
  "nbformat": 4,
  "nbformat_minor": 0,
  "metadata": {
    "colab": {
      "provenance": []
    },
    "kernelspec": {
      "name": "python3",
      "display_name": "Python 3"
    },
    "language_info": {
      "name": "python"
    }
  },
  "cells": [
    {
      "cell_type": "markdown",
      "source": [
        "Instalando o SDK do Google"
      ],
      "metadata": {
        "id": "U3Z1SSXN6rh-"
      }
    },
    {
      "cell_type": "code",
      "execution_count": 1,
      "metadata": {
        "id": "52giWv_2s1YS"
      },
      "outputs": [],
      "source": [
        "!pip install -q -U google-generativeai"
      ]
    },
    {
      "cell_type": "code",
      "source": [
        "import google.generativeai as genai\n",
        "from google.colab import userdata\n",
        "api_key = userdata.get ('SECRET_KEY')\n",
        "genai.configure(api_key=api_key)"
      ],
      "metadata": {
        "id": "ic_QFPdn7C-c"
      },
      "execution_count": 20,
      "outputs": []
    },
    {
      "cell_type": "markdown",
      "source": [
        "Listar os modelos disponíveis"
      ],
      "metadata": {
        "id": "ecs8Qj3T7kpS"
      }
    },
    {
      "cell_type": "code",
      "source": [
        "for m in genai.list_models():\n",
        "  if 'generateContent' in m.supported_generation_methods:\n",
        "    print(m.name)"
      ],
      "metadata": {
        "colab": {
          "base_uri": "https://localhost:8080/",
          "height": 150
        },
        "id": "Wl3J86WI7qRw",
        "outputId": "7efa35b0-8ad4-4626-b381-c74ead34538b"
      },
      "execution_count": 21,
      "outputs": [
        {
          "output_type": "stream",
          "name": "stdout",
          "text": [
            "models/gemini-1.0-pro\n",
            "models/gemini-1.0-pro-001\n",
            "models/gemini-1.0-pro-latest\n",
            "models/gemini-1.0-pro-vision-latest\n",
            "models/gemini-1.5-pro-latest\n",
            "models/gemini-pro\n",
            "models/gemini-pro-vision\n"
          ]
        }
      ]
    },
    {
      "cell_type": "code",
      "source": [],
      "metadata": {
        "id": "VrCC8QG5cpIy"
      },
      "execution_count": null,
      "outputs": []
    },
    {
      "cell_type": "code",
      "source": [
        "generation_config = {\n",
        "    'candidate_count': 1,\n",
        "    'temperature': 0.5,\n",
        "}"
      ],
      "metadata": {
        "id": "J8JrHkLM-8kD"
      },
      "execution_count": 32,
      "outputs": []
    },
    {
      "cell_type": "code",
      "source": [
        "safety_settings = {\n",
        "    'harassment': 'block_none',\n",
        "    'hate': 'block_none',\n",
        "    'sexual': 'block_none',\n",
        "    'dangerous': 'block_none',\n",
        "}"
      ],
      "metadata": {
        "id": "gvcYFOWY_xqI"
      },
      "execution_count": 49,
      "outputs": []
    },
    {
      "cell_type": "markdown",
      "source": [
        "Inicializando o modelo"
      ],
      "metadata": {
        "id": "X7Qlh9fTZXp4"
      }
    },
    {
      "cell_type": "code",
      "source": [
        "model = genai.GenerativeModel(model_name='gemini-1.0-pro',\n",
        "                                                              generation_config=generation_config,\n",
        "                                                              safety_settings=safety_settings)"
      ],
      "metadata": {
        "id": "anzBc5Y7Za-z"
      },
      "execution_count": 50,
      "outputs": []
    },
    {
      "cell_type": "code",
      "source": [
        "response = model.generate_content(\"Vamos aprender conteúdo de IA. Me de sugestões\")\n",
        "print(response.text)"
      ],
      "metadata": {
        "colab": {
          "base_uri": "https://localhost:8080/",
          "height": 604
        },
        "id": "BmzJUvj2r3UK",
        "outputId": "ef0f6990-fbab-4eda-97f4-4062fc24b13c"
      },
      "execution_count": 51,
      "outputs": [
        {
          "output_type": "stream",
          "name": "stdout",
          "text": [
            "**Cursos Online:**\n",
            "\n",
            "* [Introdução à Inteligência Artificial (IA)](https://www.coursera.org/learn/ai) (Coursera)\n",
            "* [Aprendizado de Máquina para Iniciantes](https://www.udacity.com/school-of-data-science/nanodegree/nd002) (Udacity)\n",
            "* [Inteligência Artificial: Fundamentos e Aplicações](https://www.edx.org/course/artificial-intelligence-foundations-applications) (edX)\n",
            "* [Aprendizado Profundo Especializado](https://www.coursera.org/specializations/deep-learning) (Coursera)\n",
            "* [Processamento de Linguagem Natural para Iniciantes](https://www.udacity.com/school-of-data-science/nanodegree/nd189) (Udacity)\n",
            "\n",
            "**Livros:**\n",
            "\n",
            "* [Inteligência Artificial: Uma Abordagem Moderna](https://www.amazon.com/Artificial-Intelligence-Modern-Approach-3rd/dp/0136042597) por Stuart Russell e Peter Norvig\n",
            "* [Aprendizado de Máquina](https://www.amazon.com/Machine-Learning-Tom-Mitchell/dp/0071899182) por Tom Mitchell\n",
            "* [Aprendizado Profundo](https://www.amazon.com/Deep-Learning-Adaptive-Computation-Machine/dp/0262035618) por Ian Goodfellow, Yoshua Bengio e Aaron Courville\n",
            "* [Processamento de Linguagem Natural](https://www.amazon.com/Natural-Language-Processing-Speech-Recognition/dp/0130387345) por Daniel Jurafsky e James H. Martin\n",
            "* [Inteligência Artificial para Todos](https://www.amazon.com/Artificial-Intelligence-Everyone-Machine-Learning/dp/1260125858) por David J. Patterson e John Hennessy\n",
            "\n",
            "**Revistas e Publicações:**\n",
            "\n",
            "* [AI Magazine](https://www.aaai.org/ojs/index.php/aimagazine)\n",
            "* [IEEE Transactions on Artificial Intelligence](https://ieeexplore.ieee.org/xpl/RecentIssue.jsp?punumber=5501)\n",
            "* [Journal of Artificial Intelligence Research](https://www.jair.org/)\n",
            "* [Nature Machine Intelligence](https://www.nature.com/nmach/)\n",
            "* [arXiv](https://arxiv.org/list/cs.AI/recent) (repositório de pré-impressões)\n",
            "\n",
            "**Comunidades Online:**\n",
            "\n",
            "* [Stack Overflow](https://stackoverflow.com/questions/tagged/artificial-intelligence)\n",
            "* [Reddit](https://www.reddit.com/r/artificial/)\n",
            "* [Kaggle](https://www.kaggle.com/learn/artificial-intelligence)\n",
            "* [Discord](https://discord.com/channels/478215716726841344/478215716726841350)\n",
            "* [Slack](https://join.slack.com/t/artificial-intelligence/shared_invite/zt-1536262720252-26p5H7k8ZvW0f99E57628Q)\n"
          ]
        }
      ]
    },
    {
      "cell_type": "code",
      "source": [
        "chat = model.start_chat(history=[])"
      ],
      "metadata": {
        "id": "4Prt8SuqtHvK"
      },
      "execution_count": 53,
      "outputs": []
    },
    {
      "cell_type": "code",
      "source": [
        "prompt = input('esperando prompt: ')\n",
        "while prompt != 'fim':\n",
        "  response = chat.send_message(prompt)\n",
        "  print('Resposta: ', response.text, '\\n')\n",
        "  prompt = input('esperando prompt: ')"
      ],
      "metadata": {
        "colab": {
          "base_uri": "https://localhost:8080/",
          "height": 434
        },
        "id": "7EWk4y2jAetI",
        "outputId": "7f082bcf-d50e-41f2-9c7a-c76e21b71fd4"
      },
      "execution_count": 55,
      "outputs": [
        {
          "name": "stdout",
          "output_type": "stream",
          "text": [
            "esperando prompt: Qual é a capital do Ceará?\n",
            "Resposta:  Fortaleza \n",
            "\n",
            "esperando prompt: What's 3 + 5?\n",
            "Resposta:  8 \n",
            "\n",
            "esperando prompt: qual é a comida típica dessa cidade?\n",
            "Resposta:  Baião de dois \n",
            "\n",
            "esperando prompt: if I add +4 to the addition, what's the result?\n",
            "Resposta:  12 \n",
            "\n",
            "esperando prompt: minha mãe nasceu nessa cidade, qual a sua nacionalidade?\n",
            "Resposta:  Brasileira \n",
            "\n",
            "esperando prompt: my mother is 60 years old, if i add this information plus the result of the addition, how old will she be?\n",
            "Resposta:  68 \n",
            "\n",
            "esperando prompt: com o resultado da idade da minha mãe mais o resultado da soma anterior a esta informação, faça a soma com 30 e dê o resultado final\n",
            "Resposta:  98 \n",
            "\n",
            "esperando prompt: fim\n"
          ]
        }
      ]
    },
    {
      "cell_type": "code",
      "source": [
        "chat.history"
      ],
      "metadata": {
        "colab": {
          "base_uri": "https://localhost:8080/"
        },
        "id": "jxs-j2QAQ8qi",
        "outputId": "9f33a06f-301a-4055-b35f-2c7a8c8b4dfb"
      },
      "execution_count": 57,
      "outputs": [
        {
          "output_type": "execute_result",
          "data": {
            "text/plain": [
              "[parts {\n",
              "   text: \"Qual \\303\\251 a capital do Cear\\303\\241?\"\n",
              " }\n",
              " role: \"user\",\n",
              " parts {\n",
              "   text: \"Fortaleza\"\n",
              " }\n",
              " role: \"model\",\n",
              " parts {\n",
              "   text: \"What\\'s 3 + 5?\"\n",
              " }\n",
              " role: \"user\",\n",
              " parts {\n",
              "   text: \"8\"\n",
              " }\n",
              " role: \"model\",\n",
              " parts {\n",
              "   text: \"qual \\303\\251 a comida t\\303\\255pica dessa cidade?\"\n",
              " }\n",
              " role: \"user\",\n",
              " parts {\n",
              "   text: \"Bai\\303\\243o de dois\"\n",
              " }\n",
              " role: \"model\",\n",
              " parts {\n",
              "   text: \"if I add +4 to the addition, what\\'s the result?\"\n",
              " }\n",
              " role: \"user\",\n",
              " parts {\n",
              "   text: \"12\"\n",
              " }\n",
              " role: \"model\",\n",
              " parts {\n",
              "   text: \"minha m\\303\\243e nasceu nessa cidade, qual a sua nacionalidade?\"\n",
              " }\n",
              " role: \"user\",\n",
              " parts {\n",
              "   text: \"Brasileira\"\n",
              " }\n",
              " role: \"model\",\n",
              " parts {\n",
              "   text: \"my mother is 60 years old, if i add this information plus the result of the addition, how old will she be?\"\n",
              " }\n",
              " role: \"user\",\n",
              " parts {\n",
              "   text: \"68\"\n",
              " }\n",
              " role: \"model\",\n",
              " parts {\n",
              "   text: \"com o resultado da idade da minha m\\303\\243e mais o resultado da soma anterior a esta informa\\303\\247\\303\\243o, fa\\303\\247a a soma com 30 e d\\303\\252 o resultado final\"\n",
              " }\n",
              " role: \"user\",\n",
              " parts {\n",
              "   text: \"98\"\n",
              " }\n",
              " role: \"model\"]"
            ]
          },
          "metadata": {},
          "execution_count": 57
        }
      ]
    }
  ]
}